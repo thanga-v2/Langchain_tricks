{
  "nbformat": 4,
  "nbformat_minor": 0,
  "metadata": {
    "colab": {
      "private_outputs": true,
      "provenance": [],
      "authorship_tag": "ABX9TyPAAs6gd0ZoNTHt5peRQmgr",
      "include_colab_link": true
    },
    "kernelspec": {
      "name": "python3",
      "display_name": "Python 3"
    },
    "language_info": {
      "name": "python"
    }
  },
  "cells": [
    {
      "cell_type": "markdown",
      "metadata": {
        "id": "view-in-github",
        "colab_type": "text"
      },
      "source": [
        "<a href=\"https://colab.research.google.com/github/thanga-v2/Langchain_tricks/blob/main/embeddings.ipynb\" target=\"_parent\"><img src=\"https://colab.research.google.com/assets/colab-badge.svg\" alt=\"Open In Colab\"/></a>"
      ]
    },
    {
      "cell_type": "code",
      "execution_count": null,
      "metadata": {
        "id": "PTgNjcuoHEFU"
      },
      "outputs": [],
      "source": [
        "# using pretrained word embeddings like word2vec or glove using genism\n"
      ]
    },
    {
      "cell_type": "code",
      "source": [
        "!pip install gensim"
      ],
      "metadata": {
        "id": "qyV2zwQbHTOW"
      },
      "execution_count": null,
      "outputs": []
    },
    {
      "cell_type": "code",
      "source": [
        "!pip install numpy==1.24.3"
      ],
      "metadata": {
        "id": "GBZ2FQf7HgDh"
      },
      "execution_count": null,
      "outputs": []
    },
    {
      "cell_type": "code",
      "source": [
        "import gensim.downloader as api"
      ],
      "metadata": {
        "id": "1vpjOeGDHNPX"
      },
      "execution_count": null,
      "outputs": []
    },
    {
      "cell_type": "code",
      "source": [
        "# glove embedding trained using wikipedia data"
      ],
      "metadata": {
        "id": "-Y_1JDcrHRf5"
      },
      "execution_count": null,
      "outputs": []
    },
    {
      "cell_type": "code",
      "source": [
        "model = api.load(\"glove-wiki-gigaword-50\")"
      ],
      "metadata": {
        "id": "pZfi0HCoHu3g"
      },
      "execution_count": null,
      "outputs": []
    },
    {
      "cell_type": "code",
      "source": [
        "model.most_similar([model['king']], topn=11)"
      ],
      "metadata": {
        "id": "kwaJpuqZIBkh"
      },
      "execution_count": null,
      "outputs": []
    },
    {
      "cell_type": "code",
      "source": [
        "model.most_similar([model['nuclear']], topn=11)"
      ],
      "metadata": {
        "id": "8bwtkqZhIDxF"
      },
      "execution_count": null,
      "outputs": []
    },
    {
      "cell_type": "code",
      "source": [
        "model.most_similar([model['missile']], topn=11)"
      ],
      "metadata": {
        "id": "pfsz-joOIGSy"
      },
      "execution_count": null,
      "outputs": []
    },
    {
      "cell_type": "code",
      "source": [
        "model.most_similar([model['iran']], topn=11)"
      ],
      "metadata": {
        "id": "484Jj5LFIJaB"
      },
      "execution_count": null,
      "outputs": []
    },
    {
      "cell_type": "code",
      "source": [
        "model.most_similar([model['india']], topn=11)"
      ],
      "metadata": {
        "id": "_lB9s9UyILVc"
      },
      "execution_count": null,
      "outputs": []
    },
    {
      "cell_type": "code",
      "source": [
        "model.most_similar([model['Nifty']], topn=11)"
      ],
      "metadata": {
        "id": "iNoHYWcwINiM"
      },
      "execution_count": null,
      "outputs": []
    },
    {
      "cell_type": "markdown",
      "source": [
        "A sliding window is used to generate training examples for the\n",
        "word2vec algorithm to later predict if two words are neighbors or not."
      ],
      "metadata": {
        "id": "R42pVbuoIvP_"
      }
    },
    {
      "cell_type": "markdown",
      "source": [
        "A neural network is trained to predict if two words are neighbors.\n",
        "It updates the embeddings in the training process to produce the final, trained\n",
        "embeddings."
      ],
      "metadata": {
        "id": "aDtgEdZTJCvh"
      }
    },
    {
      "cell_type": "code",
      "source": [
        "import pandas as pd\n",
        "from urllib import request"
      ],
      "metadata": {
        "id": "aZYE6oi-IwS1"
      },
      "execution_count": null,
      "outputs": []
    },
    {
      "cell_type": "code",
      "source": [
        "data = request.urlopen('https://storage.googleapis.com/maps-premium/dataset/yes_complete/train.txt')"
      ],
      "metadata": {
        "id": "rnEbetSDKsnk"
      },
      "execution_count": null,
      "outputs": []
    },
    {
      "cell_type": "code",
      "source": [
        "data"
      ],
      "metadata": {
        "id": "vR5mLu0AK0hs"
      },
      "execution_count": null,
      "outputs": []
    },
    {
      "cell_type": "code",
      "source": [
        "lines = data.read().decode(\"utf-8\").split('\\n')[2:]"
      ],
      "metadata": {
        "id": "8Otp0vHtK5rH"
      },
      "execution_count": null,
      "outputs": []
    },
    {
      "cell_type": "code",
      "source": [
        "print(lines)"
      ],
      "metadata": {
        "id": "tg7zT3R2K62H"
      },
      "execution_count": null,
      "outputs": []
    },
    {
      "cell_type": "code",
      "source": [
        "playlists = [s.rstrip().split() for s in lines if len(s.split())\n",
        "> 1]"
      ],
      "metadata": {
        "id": "IYi2NEtmLAhs"
      },
      "execution_count": null,
      "outputs": []
    },
    {
      "cell_type": "code",
      "source": [
        "songs_file = request.urlopen('https://storage.googleapis.com/maps-premium/dataset/yes_complete/song_hash.txt')\n",
        "songs_file = songs_file.read().decode(\"utf-8\").split('\\n')\n",
        "songs = [s.rstrip().split('\\t') for s in songs_file]\n",
        "songs_df = pd.DataFrame(data=songs, columns = ['id', 'title',\n",
        "'artist'])\n",
        "songs_df = songs_df.set_index('id')"
      ],
      "metadata": {
        "id": "qanZQPSTLMTb"
      },
      "execution_count": null,
      "outputs": []
    },
    {
      "cell_type": "code",
      "source": [
        "print(songs_df)"
      ],
      "metadata": {
        "id": "DiWrv18mLP40"
      },
      "execution_count": null,
      "outputs": []
    },
    {
      "cell_type": "code",
      "source": [
        "print( 'Playlist #1:\\n ', playlists[0], '\\n')\n",
        "print( 'Playlist #2:\\n ', playlists[1])"
      ],
      "metadata": {
        "id": "vxoA4QpKLSZd"
      },
      "execution_count": null,
      "outputs": []
    },
    {
      "cell_type": "code",
      "source": [
        "## Training the model using word2vec"
      ],
      "metadata": {
        "id": "3fg5yazsLcXc"
      },
      "execution_count": null,
      "outputs": []
    },
    {
      "cell_type": "code",
      "source": [
        "from gensim.models import Word2Vec"
      ],
      "metadata": {
        "id": "P-axaVORLghb"
      },
      "execution_count": null,
      "outputs": []
    },
    {
      "cell_type": "code",
      "source": [
        "model = Word2Vec(\n",
        "playlists, vector_size=32, window=20, negative=50,\n",
        "min_count=1, workers=4\n",
        ")"
      ],
      "metadata": {
        "id": "YcmLYbOgLjF8"
      },
      "execution_count": null,
      "outputs": []
    },
    {
      "cell_type": "code",
      "source": [
        "print(model)"
      ],
      "metadata": {
        "id": "H7-bAJ4mLl4T"
      },
      "execution_count": null,
      "outputs": []
    },
    {
      "cell_type": "code",
      "source": [
        "song_id = 14779"
      ],
      "metadata": {
        "id": "sknsAqOoMVTg"
      },
      "execution_count": null,
      "outputs": []
    },
    {
      "cell_type": "code",
      "source": [
        "model.wv.most_similar(positive=str(song_id))"
      ],
      "metadata": {
        "id": "2XcymJzKMcmx"
      },
      "execution_count": null,
      "outputs": []
    },
    {
      "cell_type": "code",
      "source": [
        "import numpy as np"
      ],
      "metadata": {
        "id": "LpU9Q15XMesM"
      },
      "execution_count": null,
      "outputs": []
    },
    {
      "cell_type": "code",
      "source": [
        "def print_recommendations(song_id):\n",
        "  similar_songs = np.array(model.wv.most_similar(\n",
        "    positive=str(song_id),topn=5))[:,0]\n",
        "  return songs_df.iloc[similar_songs]\n",
        "# Extract recommendations\n",
        "print_recommendations(14779)"
      ],
      "metadata": {
        "id": "zYSvVnuiMgz-"
      },
      "execution_count": null,
      "outputs": []
    },
    {
      "cell_type": "code",
      "source": [
        "print(songs_df.iloc[14779])"
      ],
      "metadata": {
        "id": "CRKSnOCKMxLC"
      },
      "execution_count": null,
      "outputs": []
    }
  ]
}