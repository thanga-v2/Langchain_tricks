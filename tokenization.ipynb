{
  "cells": [
    {
      "cell_type": "markdown",
      "metadata": {
        "colab_type": "text",
        "id": "view-in-github"
      },
      "source": [
        "<a href=\"https://colab.research.google.com/github/thanga-v2/Langchain_tricks/blob/main/tokenization.ipynb\" target=\"_parent\"><img src=\"https://colab.research.google.com/assets/colab-badge.svg\" alt=\"Open In Colab\"/></a>"
      ]
    },
    {
      "cell_type": "code",
      "execution_count": null,
      "metadata": {
        "id": "9wmbLAW5r7aU"
      },
      "outputs": [],
      "source": [
        "from transformers import AutoModelForCausalLM, AutoTokenizer,pipeline"
      ]
    },
    {
      "cell_type": "code",
      "execution_count": null,
      "metadata": {
        "id": "ZcHbgeJ-sZ19"
      },
      "outputs": [],
      "source": [
        "qwemodel = AutoModelForCausalLM.from_pretrained(\n",
        "    \"Qwen/Qwen3-1.7B\",\n",
        "    torch_dtype=\"auto\",\n",
        "    trust_remote_code=True\n",
        ")"
      ]
    },
    {
      "cell_type": "code",
      "execution_count": null,
      "metadata": {
        "id": "DLQawslfsyLH"
      },
      "outputs": [],
      "source": [
        "tokenizer = AutoTokenizer.from_pretrained(\"Qwen/Qwen3-1.7B\")"
      ]
    },
    {
      "cell_type": "code",
      "execution_count": null,
      "metadata": {
        "id": "Dz2XsWCht-hW"
      },
      "outputs": [],
      "source": [
        "prompt = \"Write an email apologizing to BCCI Commitee for the tragic covid mishap during the IPL Explain how it happened.<|assistant|>\""
      ]
    },
    {
      "cell_type": "code",
      "execution_count": null,
      "metadata": {
        "id": "y1YT4p-JuHt6"
      },
      "outputs": [],
      "source": [
        "input_id = tokenizer(prompt,\n",
        "                     return_tensors=\"pt\")"
      ]
    },
    {
      "cell_type": "code",
      "execution_count": null,
      "metadata": {
        "id": "SU7AtDh_uU7X"
      },
      "outputs": [],
      "source": [
        "print(type(input_id))\n",
        "print(input_id)"
      ]
    },
    {
      "cell_type": "code",
      "execution_count": null,
      "metadata": {
        "id": "J8P81ausuWaq"
      },
      "outputs": [],
      "source": [
        "# generation\n",
        "output = qwemodel.generate(\n",
        "    input_ids = input_id[\"input_ids\"], # Corrected line\n",
        "    max_new_tokens = 200\n",
        ")"
      ]
    },
    {
      "cell_type": "code",
      "execution_count": null,
      "metadata": {
        "id": "xfi6siImvSQb"
      },
      "outputs": [],
      "source": [
        "print(output)"
      ]
    },
    {
      "cell_type": "code",
      "execution_count": null,
      "metadata": {
        "id": "ug5VkkWTvHgV"
      },
      "outputs": [],
      "source": [
        "print(tokenizer.decode(output[0]))"
      ]
    },
    {
      "cell_type": "code",
      "execution_count": null,
      "metadata": {
        "id": "NOmZQq34vKJ2"
      },
      "outputs": [],
      "source": [
        "# tokenizers\n",
        "\n",
        "# what's inside ?\n",
        "\n",
        "print(input_id['input_ids'])"
      ]
    },
    {
      "cell_type": "code",
      "execution_count": null,
      "metadata": {
        "id": "Ghr72ixewSrG"
      },
      "outputs": [],
      "source": [
        "for id in input_id['input_ids']:\n",
        "  print(tokenizer.decode(id))"
      ]
    },
    {
      "cell_type": "code",
      "execution_count": null,
      "metadata": {
        "id": "_4mPjPcbwnVZ"
      },
      "outputs": [],
      "source": [
        "for id in output[0]:\n",
        "  print(tokenizer.decode(id))"
      ]
    },
    {
      "cell_type": "code",
      "execution_count": null,
      "metadata": {
        "id": "Q2bP9wbAw0Hj"
      },
      "outputs": [],
      "source": [
        "# how tokenizer breaks down the text ?\n",
        "\n",
        "# 1. creator of the model can descide on his own -> BPE(Byte pair encoding) for GPT and BERT\n",
        "\n",
        "# 2. design the choices like voccabulary size.\n",
        "\n",
        "# 3.the tokenizer needs to be trained on specific dataset.\n",
        "\n",
        "# tokenizer trained on english dataset will differ from the tokenizer trained on multilingual dataset.\n",
        "\n"
      ]
    },
    {
      "cell_type": "code",
      "execution_count": null,
      "metadata": {
        "id": "gWi0YEMayZj8"
      },
      "outputs": [],
      "source": [
        "# tokenizer breaks down text to word tokens, subword tokens, character tokens, bytes."
      ]
    },
    {
      "cell_type": "code",
      "execution_count": null,
      "metadata": {
        "id": "6NPfkqatyvfN"
      },
      "outputs": [],
      "source": [
        "text =\"\"\"\n",
        "English and CAPITALIZATION\n",
        "🎵鸟\n",
        "\" \"\n",
        "show_tokens False None elif == >= else: two tabs:\" \" Three tabs:\n",
        "12.0*50=600\n",
        "\"\"\""
      ]
    },
    {
      "cell_type": "code",
      "execution_count": null,
      "metadata": {
        "id": "RgWBtxzry9HF"
      },
      "outputs": [],
      "source": [
        "colors_list = [\n",
        "'102;194;165', '252;141;98', '141;160;203',\n",
        "'231;138;195', '166;216;84', '255;217;47'\n",
        "]"
      ]
    },
    {
      "cell_type": "code",
      "execution_count": null,
      "metadata": {
        "id": "DbDQXARby_aF"
      },
      "outputs": [],
      "source": [
        "# BERT\n",
        "\n",
        "unmasker = pipeline('fill-mask', model='bert-base-uncased')"
      ]
    },
    {
      "cell_type": "code",
      "execution_count": null,
      "metadata": {
        "id": "hE6YYy-vzp4O"
      },
      "outputs": [],
      "source": [
        "unmasker(\"Hello I'm a [MASK] model.\")"
      ]
    },
    {
      "cell_type": "code",
      "execution_count": null,
      "metadata": {
        "id": "wmjsioBUz9DO"
      },
      "outputs": [],
      "source": [
        "# GPT 2 -> neural machine transaltion of rare words with sub words\n",
        "\n",
        "generator = pipeline('text-generation', model='gpt2')\n",
        "\n",
        "generator(text, max_length=100, num_return_sequences=5)\n",
        "\n"
      ]
    },
    {
      "cell_type": "code",
      "execution_count": null,
      "metadata": {
        "id": "HHA2ZxsS0x63"
      },
      "outputs": [],
      "source": [
        "tokenizer"
      ]
    },
    {
      "cell_type": "code",
      "execution_count": null,
      "metadata": {
        "id": "EK7SOW2m3HxH"
      },
      "outputs": [],
      "source": [
        "testtokens = tokenizer(\"Hi i am test data to see how i am being represented in embeddings\", return_tensors=\"pt\")"
      ]
    },
    {
      "cell_type": "code",
      "execution_count": null,
      "metadata": {
        "id": "RJsEapLy4EQu"
      },
      "outputs": [],
      "source": [
        "print(testtokens['input_ids'][0])"
      ]
    },
    {
      "cell_type": "code",
      "execution_count": null,
      "metadata": {
        "id": "VNsq6_d53a2s"
      },
      "outputs": [],
      "source": [
        "testoutput = qwemodel(**testtokens)[0]"
      ]
    },
    {
      "cell_type": "code",
      "execution_count": null,
      "metadata": {
        "id": "MJKJ4vpu3reh"
      },
      "outputs": [],
      "source": [
        "print(testoutput)"
      ]
    },
    {
      "cell_type": "code",
      "execution_count": null,
      "metadata": {
        "id": "wMNvahyX3vLT"
      },
      "outputs": [],
      "source": [
        "testoutput.shape"
      ]
    },
    {
      "cell_type": "code",
      "execution_count": null,
      "metadata": {
        "id": "loGGtitm3_nO"
      },
      "outputs": [],
      "source": [
        "for token in testtokens['input_ids'][0]:\n",
        "  print(tokenizer.decode(token))"
      ]
    },
    {
      "cell_type": "code",
      "execution_count": null,
      "metadata": {
        "id": "ELUh6x4q4M-w"
      },
      "outputs": [],
      "source": []
    }
  ],
  "metadata": {
    "accelerator": "GPU",
    "colab": {
      "authorship_tag": "ABX9TyPxAm1PbMAc0mUmJWT37kI4",
      "gpuType": "L4",
      "include_colab_link": true,
      "machine_shape": "hm",
      "private_outputs": true,
      "provenance": []
    },
    "kernelspec": {
      "display_name": "Python 3",
      "name": "python3"
    },
    "language_info": {
      "name": "python",
      "version": "3.13.0"
    }
  },
  "nbformat": 4,
  "nbformat_minor": 0
}
