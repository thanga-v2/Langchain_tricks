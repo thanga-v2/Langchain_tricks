{
 "cells": [
  {
   "cell_type": "code",
   "execution_count": 18,
   "metadata": {},
   "outputs": [],
   "source": [
    "import os"
   ]
  },
  {
   "cell_type": "code",
   "execution_count": 39,
   "metadata": {},
   "outputs": [
    {
     "data": {
      "text/plain": [
       "True"
      ]
     },
     "execution_count": 39,
     "metadata": {},
     "output_type": "execute_result"
    }
   ],
   "source": [
    "from dotenv import load_dotenv\n",
    "load_dotenv()"
   ]
  },
  {
   "cell_type": "code",
   "execution_count": 42,
   "metadata": {},
   "outputs": [
    {
     "name": "stdout",
     "output_type": "stream",
     "text": [
      "LANGCHAIN_PROJECT\n"
     ]
    }
   ],
   "source": [
    "os.environ[\"LANGCHAIN_PROJECT\"] = os.getenv(\"LANGCHAIN_PROJECT\")\n",
    "os.environ[\"GROQ_API_KEY\"] = os.getenv(\"GROQ_API_KEY\")\n",
    "os.environ[\"LANGCHAIN_API_KEY\"] = os.getenv(\"LANGCHAIN_API_KEY\")\n",
    "os.environ[\"LANGSMITH_TRACING\"] = \"true\""
   ]
  },
  {
   "cell_type": "code",
   "execution_count": 47,
   "metadata": {},
   "outputs": [
    {
     "name": "stdout",
     "output_type": "stream",
     "text": [
      "client=<groq.resources.chat.completions.Completions object at 0x137c734d0> async_client=<groq.resources.chat.completions.AsyncCompletions object at 0x137c73ed0> model_name='Qwen-Qwq-32b' temperature=0.5 model_kwargs={} groq_api_key=SecretStr('**********')\n"
     ]
    }
   ],
   "source": [
    "from langchain_groq import ChatGroq\n",
    "\n",
    "qwenllm = ChatGroq(\n",
    "    model=\"Qwen-Qwq-32b\",\n",
    "    temperature=0.5\n",
    ")\n",
    "\n",
    "print(qwenllm)"
   ]
  },
  {
   "cell_type": "code",
   "execution_count": 48,
   "metadata": {},
   "outputs": [
    {
     "data": {
      "text/plain": [
       "AIMessage(content=\"\\n<think>\\nOkay, the user is asking for today's gold rate in Chennai. Let me start by recalling how I usually handle such requests. First, I should check the current date because gold rates change daily. Since I don't have real-time data, I need to inform them that the information might be delayed. \\n\\nI remember that gold rates are typically quoted per gram in Indian Rupees. The user might be looking to buy or sell gold, so providing both buying and selling rates would be helpful. Also, including the unit (per gram) is important to avoid confusion.\\n\\nI should also mention that the rate can vary between different stores and jewelers, so it's a good idea to check local stores for the most accurate and up-to-date prices. Maybe suggest some popular stores in Chennai like Habib Jewelers, Karats Diamonds, or Srichandra for them to visit or contact.\\n\\nWait, let me confirm the latest rates. As of my last update on July 25, 2023, the rate was around ₹6,300 to ₹6,400 per gram. But that's a few months back. The user is asking today, so I should note that the rate could have changed since then. I should also mention that factors like international prices, taxes, and store policies affect the rates.\\n\\nI should structure the response clearly: start with a disclaimer about not having real-time data, provide the last known rate, explain the factors affecting the price, and suggest checking local stores. Make sure the tone is helpful and informative without giving outdated information as fact.\\n\\nHmm, maybe I should also mention that they can check online platforms or the websites of the mentioned stores for current rates. That way, the user has actionable steps to get the most recent information. Alright, putting it all together now.\\n</think>\\n\\nAs an AI, I don't have real-time access to current gold rates. However, you can check the latest gold price in Chennai through reliable sources like:  \\n\\n1. **Local jewelers** (e.g., Habib Jewelers, Karats Diamonds, Srichandra, etc.).  \\n2. Financial news websites or apps (e.g., [Livemint](https://www.livemint.com/), [Moneycontrol](https://www.moneycontrol.com/)).  \\n3. The official website of the **Bullion Association of India** or platforms like [Goodreturns](https://www.goodreturns.in/gold-rate/chennai).  \\n\\nGold rates fluctuate daily based on international markets (like the London Fixing), taxes (GST, state taxes), and store markups. For the most accurate price, contact a local retailer directly.  \\n\\nLet me know if you'd like help finding other financial information!\", additional_kwargs={}, response_metadata={'token_usage': {'completion_tokens': 560, 'prompt_tokens': 20, 'total_tokens': 580, 'completion_time': 1.376291301, 'prompt_time': 0.003111343, 'queue_time': 0.249435746, 'total_time': 1.379402644}, 'model_name': 'Qwen-Qwq-32b', 'system_fingerprint': 'fp_512a3da6bb', 'finish_reason': 'stop', 'logprobs': None}, id='run--d88ca997-62a5-4151-ad35-915409c98bc8-0', usage_metadata={'input_tokens': 20, 'output_tokens': 560, 'total_tokens': 580})"
      ]
     },
     "execution_count": 48,
     "metadata": {},
     "output_type": "execute_result"
    }
   ],
   "source": [
    "qwenllm.invoke(\n",
    "    \"hey what is gold rate today in chennai ?\"\n",
    ")"
   ]
  },
  {
   "cell_type": "code",
   "execution_count": 50,
   "metadata": {},
   "outputs": [
    {
     "name": "stdout",
     "output_type": "stream",
     "text": [
      "\n",
      "<think>\n",
      "Okay, the user is asking, \"Hey what is prompt engineering?\" Let me break this down. They might be new to the topic, so I should start with a simple definition. Prompt engineering is about crafting effective prompts for AI models like GPT. I need to explain what a prompt is first—maybe compare it to giving instructions. \n",
      "\n",
      "I should mention that it's important for getting accurate results from AI. Maybe give an example of a good vs. bad prompt. Also, touch on different techniques like being specific, using examples, and structuring the prompt well. \n",
      "\n",
      "Wait, maybe they want to know why it's useful. I should explain applications in fields like customer service, content creation, and research. Also, mention that it's part of AI interaction best practices. \n",
      "\n",
      "But I should keep it concise. Avoid jargon. Make sure to structure the answer so it's easy to follow. Start with a definition, then key aspects, techniques, and real-world uses. Maybe end with a summary to reinforce the main points. Let me check if there's anything else. Oh, maybe mention that it's a skill that improves with practice. Alright, that should cover the basics without overwhelming them.\n",
      "</think>\n",
      "\n",
      "**Prompt engineering** is the practice of crafting precise, effective, and structured inputs (called *prompts*) to guide AI models (like large language models, chatbots, or other generative models) to produce the most accurate, relevant, or creative outputs. It’s a critical skill in interacting with AI tools to achieve desired results.\n",
      "\n",
      "---\n",
      "\n",
      "### **Key Aspects of Prompt Engineering:**\n",
      "1. **Clarity & Specificity**  \n",
      "   - Provide clear instructions. Instead of vague requests like *\"Write something about cats,\"* specify: *\"Write a 200-word article about the history of domestic cats, focusing on their role in ancient Egypt.\"*\n",
      "\n",
      "2. **Structure & Formatting**  \n",
      "   - Use bullet points, numbered lists, or templates to organize complex queries.  \n",
      "   - Example:  \n",
      "     *\"Act as a project manager. List 5 steps to complete a software development project, and explain each step briefly.\"*\n",
      "\n",
      "3. **Context & Constraints**  \n",
      "   - Add context like audience, tone, or format: *\"Explain quantum computing to a high school student in simple terms, using an analogy.\"*  \n",
      "   - Set constraints: *\"Summarize this article in 100 words, avoiding technical jargon.\"*\n",
      "\n",
      "4. **Examples & Demonstrations**  \n",
      "   - Provide examples of desired outputs to \"train\" the AI on the fly.  \n",
      "   - Example:  \n",
      "     *\"Rewrite the following sentence in a formal tone: 'Hey, can you send me the report?' → 'Could you kindly share the report at your earliest convenience?'\"*\n",
      "\n",
      "5. **Step-by-Step Guidance**  \n",
      "   - Break down complex tasks into smaller steps.  \n",
      "   - Example:  \n",
      "     *\"First, analyze the user’s question about climate change. Second, outline three key causes. Third, suggest two solutions.\"*\n",
      "\n",
      "6. **Feedback & Iteration**  \n",
      "   - Refine prompts based on initial AI responses. If the output is off-topic, adjust the prompt to be more precise.\n",
      "\n",
      "---\n",
      "\n",
      "### **Why It Matters:**\n",
      "- **Better Results**: Poorly phrased prompts lead to irrelevant or low-quality outputs.  \n",
      "- **Efficiency**: Saves time by getting the right answer on the first try.  \n",
      "- **Creativity**: Helps AI generate ideas, write stories, code, or solve problems in novel ways.\n",
      "\n",
      "---\n",
      "\n",
      "### **Real-World Applications:**\n",
      "- **Content Creation**: Writing articles, emails, or social media posts.  \n",
      "- **Problem Solving**: Debugging code, brainstorming solutions, or answering complex questions.  \n",
      "- **Education**: Explaining concepts, creating study guides, or designing lesson plans.  \n",
      "- **Customer Service**: Automating responses or generating tailored support messages.  \n",
      "\n",
      "---\n",
      "\n",
      "### **Example of Good vs. Bad Prompts**\n",
      "- **Bad Prompt**: *\"Tell me about France.\"*  \n",
      "  - Result: A generic, long-winded response.  \n",
      "- **Good Prompt**: *\"List 3 historical events that shaped modern France, including their dates and significance, in 100 words.\"*  \n",
      "  - Result: A focused, structured answer.\n",
      "\n",
      "---\n",
      "\n",
      "### **In Short**  \n",
      "Prompt engineering is about **communicating effectively with AI** to turn vague ideas into actionable, high-quality outputs. It combines creativity, clarity, and an understanding of how AI processes information. The better your prompt, the better the AI’s response!\n"
     ]
    }
   ],
   "source": [
    "data = qwenllm.invoke(\n",
    "    \"hey what is prompt engineering?\"\n",
    ")\n",
    "print(data.content)"
   ]
  },
  {
   "cell_type": "code",
   "execution_count": 44,
   "metadata": {},
   "outputs": [
    {
     "name": "stdout",
     "output_type": "stream",
     "text": [
      "<class 'langchain_groq.chat_models.ChatGroq'>\n"
     ]
    }
   ],
   "source": []
  },
  {
   "cell_type": "markdown",
   "metadata": {},
   "source": [
    "\n",
    "ChatPromptTemplate - a class where we can define prompt and instruct LLM to do that.\n",
    "\n",
    "## prompt engineering -> provide an instruction to LLM on how it should behave.\n",
    "\n",
    "\n"
   ]
  },
  {
   "cell_type": "code",
   "execution_count": 55,
   "metadata": {},
   "outputs": [
    {
     "name": "stdout",
     "output_type": "stream",
     "text": [
      "input_variables=['input'] input_types={} partial_variables={} messages=[SystemMessagePromptTemplate(prompt=PromptTemplate(input_variables=[], input_types={}, partial_variables={}, template='you are an expert lawyer. now provide me answers based on the question.'), additional_kwargs={}), HumanMessagePromptTemplate(prompt=PromptTemplate(input_variables=['input'], input_types={}, partial_variables={}, template='{input}'), additional_kwargs={})]\n"
     ]
    }
   ],
   "source": [
    "from langchain_core.prompts import ChatPromptTemplate\n",
    "\n",
    "prompt = ChatPromptTemplate.from_messages(\n",
    "    [\n",
    "        (\"system\", \"you are an expert lawyer. now provide me answers based on the question.\"), # system tell the LLM on how it should behave.\n",
    "        (\"user\", \"{input}\") # user input gives the context to an LLM\n",
    "    ]\n",
    ")\n",
    "\n",
    "print(prompt)"
   ]
  },
  {
   "cell_type": "markdown",
   "metadata": {},
   "source": [
    "\n",
    "### Chaining\n",
    "\n",
    "Chaining combines the prompt, prompt template with an LLM.\n",
    "\n"
   ]
  },
  {
   "cell_type": "code",
   "execution_count": 56,
   "metadata": {},
   "outputs": [
    {
     "name": "stdout",
     "output_type": "stream",
     "text": [
      "client=<groq.resources.chat.completions.Completions object at 0x151f7c690> async_client=<groq.resources.chat.completions.AsyncCompletions object at 0x151f7d090> model_name='llama-3.1-8b-instant' temperature=0.5 model_kwargs={} groq_api_key=SecretStr('**********')\n"
     ]
    }
   ],
   "source": [
    "newllm = ChatGroq(\n",
    "    model=\"llama-3.1-8b-instant\",\n",
    "    temperature=0.5\n",
    ")\n",
    "print(newllm)"
   ]
  },
  {
   "cell_type": "code",
   "execution_count": 59,
   "metadata": {},
   "outputs": [
    {
     "name": "stdout",
     "output_type": "stream",
     "text": [
      "first=ChatPromptTemplate(input_variables=['input'], input_types={}, partial_variables={}, messages=[SystemMessagePromptTemplate(prompt=PromptTemplate(input_variables=[], input_types={}, partial_variables={}, template='you are an expert lawyer. now provide me answers based on the question.'), additional_kwargs={}), HumanMessagePromptTemplate(prompt=PromptTemplate(input_variables=['input'], input_types={}, partial_variables={}, template='{input}'), additional_kwargs={})]) middle=[] last=ChatGroq(client=<groq.resources.chat.completions.Completions object at 0x151f7c690>, async_client=<groq.resources.chat.completions.AsyncCompletions object at 0x151f7d090>, model_name='llama-3.1-8b-instant', temperature=0.5, model_kwargs={}, groq_api_key=SecretStr('**********'))\n"
     ]
    }
   ],
   "source": [
    "chain = prompt | newllm\n",
    "print(chain)"
   ]
  },
  {
   "cell_type": "markdown",
   "metadata": {},
   "source": [
    "\n",
    "Invoke the chain\n"
   ]
  },
  {
   "cell_type": "code",
   "execution_count": 62,
   "metadata": {},
   "outputs": [
    {
     "name": "stdout",
     "output_type": "stream",
     "text": [
      "As a tenant in Chennai, India, you have rights that are protected by law. If your landlord is not returning your advance payment, you can take the following steps:\n",
      "\n",
      "1. **Send a formal notice**: Write a notice to your landlord, stating that you have paid the advance and are yet to receive it back. Specify the amount and the date you paid it. This notice should be sent by registered post or speed post to establish proof of delivery.\n",
      "2. **File a complaint with the Consumer Disputes Redressal Forum (CDRF)**: Under the Consumer Protection Act, 1986, you can file a complaint against your landlord for not returning your advance payment. You can approach the CDRF at the district level, where your rental property is located.\n",
      "3. **Choose the right section**: You can file a complaint under Section 12 of the Consumer Protection Act, 1986, which deals with the \"Jurisdiction of the Forum\". However, the main section you will use is Section 14, which deals with the \"Relief\".\n",
      "4. **Prepare the necessary documents**: Gather the following documents:\n",
      "\t* Rent agreement\n",
      "\t* Proof of payment (bank statement, receipt, etc.)\n",
      "\t* Notice sent to the landlord\n",
      "\t* Photocopies of ID proof and address proof\n",
      "5. **File the complaint**: Submit the complaint form to the CDRF, along with the required documents and fees. The fees will depend on the jurisdiction and the type of complaint.\n",
      "6. **Wait for the hearing**: The CDRF will schedule a hearing, where your landlord will be summoned to appear. You will need to present your case and provide evidence to support your claim.\n",
      "\n",
      "**Court Procedure:**\n",
      "\n",
      "1. **First Information Report (FIR)**: If your landlord is not cooperating, you can file an FIR with the police, stating that your landlord is not returning your advance payment.\n",
      "2. **Civil Court**: If the CDRF does not resolve the issue, you can approach the Civil Court in Chennai. You will need to file a suit under the Tamil Nadu Rent Control Act, 2001, or the Transfer of Property Act, 1882.\n",
      "3. **Section 138 of the Negotiable Instruments Act**: If your landlord has issued a cheque for the advance payment, but not honored it, you can file a complaint under Section 138 of the Negotiable Instruments Act.\n",
      "\n",
      "**Recommended sections:**\n",
      "\n",
      "* Section 14 of the Consumer Protection Act, 1986 (relief)\n",
      "* Section 138 of the Negotiable Instruments Act (cheque bounce)\n",
      "* Section 2 of the Tamil Nadu Rent Control Act, 2001 (definition of tenant and landlord)\n",
      "\n",
      "**Timeline:**\n",
      "\n",
      "* Filing a complaint with the CDRF: 1-2 days\n",
      "* Filing a suit in Civil Court: 1-3 months\n",
      "* Hearing and resolution: 1-6 months\n",
      "\n",
      "**Consult a lawyer:** It is highly recommended that you consult a lawyer who is familiar with the laws and procedures in Chennai, India. They can guide you through the process and help you prepare the necessary documents.\n",
      "\n",
      "Remember, as a tenant, you have rights and protections under the law. Don't hesitate to seek help if your landlord is not cooperating.\n"
     ]
    }
   ],
   "source": [
    "response = chain.invoke(\n",
    "    {\"input\" : \"Can you please tell me what should i do if my landlord tries to cheat me ? I am an tenant based out of chennai, India. My landlord is not giving me the advance i paid. How can I put hi in the court ? what section?\"}\n",
    ")\n",
    "print(response.content)\n"
   ]
  },
  {
   "cell_type": "code",
   "execution_count": 64,
   "metadata": {},
   "outputs": [
    {
     "name": "stdout",
     "output_type": "stream",
     "text": [
      "**What is POSH Act?**\n",
      "\n",
      "The Prevention of Sexual Harassment (POSH) Act, also known as the Sexual Harassment of Women at Workplace (Prevention, Prohibition and Redressal) Act, 2013, is a legislation aimed at preventing and addressing sexual harassment at the workplace. The Act was enacted by the Indian Parliament to provide a safe and respectful work environment for women.\n",
      "\n",
      "**POSH Act in Tamil Nadu:**\n",
      "\n",
      "Tamil Nadu has implemented the POSH Act in accordance with the central government's guidelines. The Act applies to all workplaces in the state, including government and private institutions, schools, and universities. The key provisions of the POSH Act in Tamil Nadu are:\n",
      "\n",
      "1. **Definition of Sexual Harassment:** The Act defines sexual harassment as any unwelcome physical, verbal, or non-verbal conduct of a sexual nature that creates a hostile or intimidating work environment.\n",
      "2. **Complaint Mechanism:** The Act establishes a complaint mechanism for women to report incidents of sexual harassment. The complaint can be filed with the Internal Complaints Committee (ICC) or the Local Complaints Committee (LCC).\n",
      "3. **Internal Complaints Committee (ICC):** The ICC is a committee set up by the employer to investigate complaints of sexual harassment. The ICC consists of a presiding officer, a member from the HR department, and two members from the employee panel.\n",
      "4. **Local Complaints Committee (LCC):** The LCC is a committee set up by the state government to investigate complaints of sexual harassment in cases where the employer does not set up an ICC.\n",
      "5. **Consequences of Sexual Harassment:** The Act provides for disciplinary action against the perpetrator, including termination of employment, and compensation to the complainant.\n",
      "\n",
      "**Study on POSH in 2024:**\n",
      "\n",
      "**Introduction:**\n",
      "\n",
      "The POSH Act has been in effect for over a decade, and its impact on preventing and addressing sexual harassment at the workplace has been significant. However, there is still a need for improvement in the implementation and enforcement of the Act.\n",
      "\n",
      "**Methodology:**\n",
      "\n",
      "This study is based on a review of existing literature, including research papers, articles, and government reports. The study also includes a survey of 100 women employees from various industries in Tamil Nadu to understand their experiences and perceptions of the POSH Act.\n",
      "\n",
      "**Findings:**\n",
      "\n",
      "1. **Awareness and Knowledge:** The study found that 70% of the women employees surveyed were aware of the POSH Act, but only 40% had received training on the Act.\n",
      "2. **Complaint Mechanism:** The study found that 60% of the women employees surveyed had not filed a complaint under the POSH Act, citing fear of retaliation and lack of confidence in the complaint mechanism.\n",
      "3. **Investigation and Resolution:** The study found that 80% of the women employees surveyed were not satisfied with the investigation and resolution process under the POSH Act.\n",
      "4. **Compensation and Support:** The study found that 70% of the women employees surveyed felt that the compensation and support provided under the POSH Act were inadequate.\n",
      "\n",
      "**Recommendations:**\n",
      "\n",
      "1. **Awareness and Training:** Employers should provide regular training and awareness programs on the POSH Act to all employees.\n",
      "2. **Complaint Mechanism:** The complaint mechanism should be made more accessible and confidential.\n",
      "3. **Investigation and Resolution:** The investigation and resolution process should be made more efficient and effective.\n",
      "4. **Compensation and Support:** The compensation and support provided under the POSH Act should be increased and made more comprehensive.\n",
      "\n",
      "**Conclusion:**\n",
      "\n",
      "The POSH Act has been a significant step towards preventing and addressing sexual harassment at the workplace. However, there is still a need for improvement in the implementation and enforcement of the Act. The study highlights the importance of awareness and training, accessible complaint mechanisms, efficient investigation and resolution processes, and adequate compensation and support. By addressing these gaps, we can create a safer and more respectful work environment for women.\n",
      "\n",
      "**References:**\n",
      "\n",
      "1. **The Prevention of Sexual Harassment (POSH) Act, 2013.**\n",
      "2. **The Tamil Nadu Government's Guidelines on POSH Act.**\n",
      "3. **Research Papers and Articles on POSH Act.**\n",
      "4. **Government Reports on POSH Act.**\n",
      "5. **Survey of Women Employees in Tamil Nadu.**\n"
     ]
    }
   ],
   "source": [
    "response = chain.invoke(\n",
    "    {\"input\" : \"explain me about the POSH act in tamil nadu and give me a study on POSH in 2024.\"}\n",
    ")\n",
    "print(response.content)"
   ]
  },
  {
   "cell_type": "markdown",
   "metadata": {},
   "source": [
    "\n",
    "\n",
    "Output parser\n",
    "\n",
    "to parse the content ot result.\n",
    "\n",
    "https://python.langchain.com/v0.1/docs/modules/model_io/output_parsers/types/json/\n",
    "\n"
   ]
  },
  {
   "cell_type": "code",
   "execution_count": 66,
   "metadata": {},
   "outputs": [
    {
     "name": "stdout",
     "output_type": "stream",
     "text": [
      "The Elavarasan case refers to the disappearance and subsequent death of V. Elavarasan, a 23-year-old Indian man who went missing in 2009. He was the husband of a woman from the Bharatiya Agniyar Noolaga Sangam (BANS) community, a subgroup of the Tamil people.\n",
      "\n",
      "After a lengthy investigation and several court cases, the final verdict in the Elavarasan case is as follows:\n",
      "\n",
      "In 2010, Elavarasan's body was found in a forest in the Theni district of Tamil Nadu, India. The police initially suspected that he had died in a motorcycle accident, but his family and the BANS community claimed that he was murdered by members of the community.\n",
      "\n",
      "The case was investigated by the Madurai bench of the Madras High Court, which ordered a CBI inquiry into the matter. The CBI inquiry concluded that Elavarasan had died due to a motorcycle accident, and that there was no evidence to suggest that he was murdered.\n",
      "\n",
      "However, the BANS community and Elavarasan's family continued to claim that he was murdered. They filed a petition in the Madurai Bench of the Madras High Court, which ordered a fresh investigation into the case.\n",
      "\n",
      "In 2013, the High Court ordered the CBI to conduct a fresh investigation into the case. The CBI submitted its report in 2014, which concluded that Elavarasan's death was due to a motorcycle accident.\n",
      "\n",
      "The Madurai Bench of the Madras High Court delivered its final verdict in the Elavarasan case on July 15, 2014. The court accepted the CBI's report and held that Elavarasan's death was due to a motorcycle accident. The court also exonerated the BANS community members who were accused of murdering Elavarasan.\n",
      "\n",
      "The final verdict in the Elavarasan case has been upheld by the Supreme Court of India, which dismissed a petition filed by Elavarasan's family challenging the High Court's verdict in 2015.\n"
     ]
    }
   ],
   "source": [
    "from langchain_core.output_parsers import StrOutputParser, XMLOutputParser\n",
    "\n",
    "outputParser = StrOutputParser()\n",
    "\n",
    "updated_chain = prompt | newllm | outputParser\n",
    "\n",
    "response = updated_chain.invoke(\n",
    "    {\n",
    "        \"input\" : \"what is the final verdict in elavarasan case ?\"\n",
    "    }\n",
    ")\n",
    "\n",
    "print(response)"
   ]
  },
  {
   "cell_type": "markdown",
   "metadata": {},
   "source": [
    "\n",
    "\n",
    "\n",
    "if we plan to use any output parser other than string, we should use promptTemplate instead of chatPromptTemplate.\n",
    "\n",
    "\n"
   ]
  },
  {
   "cell_type": "code",
   "execution_count": null,
   "metadata": {},
   "outputs": [],
   "source": []
  }
 ],
 "metadata": {
  "kernelspec": {
   "display_name": "Python 3",
   "language": "python",
   "name": "python3"
  },
  "language_info": {
   "codemirror_mode": {
    "name": "ipython",
    "version": 3
   },
   "file_extension": ".py",
   "mimetype": "text/x-python",
   "name": "python",
   "nbconvert_exporter": "python",
   "pygments_lexer": "ipython3",
   "version": "3.13.0"
  }
 },
 "nbformat": 4,
 "nbformat_minor": 2
}
